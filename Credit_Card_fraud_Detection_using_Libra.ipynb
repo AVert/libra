{
  "nbformat": 4,
  "nbformat_minor": 0,
  "metadata": {
    "colab": {
      "name": "Credit Card fraud Detection using Libra.ipynb",
      "provenance": [],
      "mount_file_id": "1khr-nqQVkP_XMUQ5y8GWrK5AUS41lyzC",
      "authorship_tag": "ABX9TyNREbWosCkSVNvSK5AxevlL",
      "include_colab_link": true
    },
    "kernelspec": {
      "name": "python3",
      "display_name": "Python 3"
    },
    "accelerator": "GPU"
  },
  "cells": [
    {
      "cell_type": "markdown",
      "metadata": {
        "id": "view-in-github",
        "colab_type": "text"
      },
      "source": [
        "<a href=\"https://colab.research.google.com/github/aliaryan/libra/blob/master/Credit_Card_fraud_Detection_using_Libra.ipynb\" target=\"_parent\"><img src=\"https://colab.research.google.com/assets/colab-badge.svg\" alt=\"Open In Colab\"/></a>"
      ]
    },
    {
      "cell_type": "markdown",
      "metadata": {
        "id": "jSf1GEyFpD0S",
        "colab_type": "text"
      },
      "source": [
        "# Credit Card Fraud Detection Using Libra"
      ]
    },
    {
      "cell_type": "markdown",
      "metadata": {
        "id": "NaWADH1tpQtL",
        "colab_type": "text"
      },
      "source": [
        " I have used the Kaggle dataset for the prediction of credit card fraud. The data has already gone through the principal component analysis, so it is now reduced to less dimensional data as compared to the original one. It requires follow a systematic approach while solving this problem. In General way you will follow the sequence: Data analysis and preprocessing, Data cleaning, Machine learning.  But with Libra you don't have to worry about it.\n",
        "\n",
        "Link of dataset \n",
        "\n",
        "```\n",
        "https://www.kaggle.com/mlg-ulb/creditcardfraud\n",
        "```\n",
        "\n",
        "\n",
        "Most of the transactions were Non-Fraudulent (99.83 Percent) of the time, while Fraudulent transactions occur (0.17 Percent) of the time in the dataset. Which means that the data is highly imabalance. Let us check how well Libra preprocess the data and gives us the reslt.\n"
      ]
    },
    {
      "cell_type": "markdown",
      "metadata": {
        "id": "4ZYsWz_g7Bfx",
        "colab_type": "text"
      },
      "source": [
        "# Installing Libra"
      ]
    },
    {
      "cell_type": "code",
      "metadata": {
        "id": "DePwJfKRxHIc",
        "colab_type": "code",
        "colab": {
          "base_uri": "https://localhost:8080/",
          "height": 1000
        },
        "outputId": "eb5bc022-15e8-4b53-9876-e9f67268f85d"
      },
      "source": [
        "pip install libra"
      ],
      "execution_count": null,
      "outputs": [
        {
          "output_type": "stream",
          "text": [
            "Collecting libra\n",
            "\u001b[?25l  Downloading https://files.pythonhosted.org/packages/24/df/6e9ae5f479777fad123d75af02db61872f1528f2310f36fa07b32078d114/libra-1.0.2-py3-none-any.whl (65kB)\n",
            "\r\u001b[K     |█████                           | 10kB 19.3MB/s eta 0:00:01\r\u001b[K     |██████████                      | 20kB 5.0MB/s eta 0:00:01\r\u001b[K     |███████████████                 | 30kB 6.4MB/s eta 0:00:01\r\u001b[K     |████████████████████            | 40kB 6.3MB/s eta 0:00:01\r\u001b[K     |█████████████████████████       | 51kB 5.6MB/s eta 0:00:01\r\u001b[K     |██████████████████████████████  | 61kB 6.1MB/s eta 0:00:01\r\u001b[K     |████████████████████████████████| 71kB 4.3MB/s \n",
            "\u001b[?25hCollecting colorama\n",
            "  Downloading https://files.pythonhosted.org/packages/c9/dc/45cdef1b4d119eb96316b3117e6d5708a08029992b2fee2c143c7a0a5cc5/colorama-0.4.3-py2.py3-none-any.whl\n",
            "Requirement already satisfied: torch in /usr/local/lib/python3.6/dist-packages (from libra) (1.5.1+cu101)\n",
            "Collecting python-Levenshtein\n",
            "\u001b[?25l  Downloading https://files.pythonhosted.org/packages/42/a9/d1785c85ebf9b7dfacd08938dd028209c34a0ea3b1bcdb895208bd40a67d/python-Levenshtein-0.12.0.tar.gz (48kB)\n",
            "\u001b[K     |████████████████████████████████| 51kB 5.8MB/s \n",
            "\u001b[?25hRequirement already satisfied: tabulate in /usr/local/lib/python3.6/dist-packages (from libra) (0.8.7)\n",
            "Requirement already satisfied: nltk in /usr/local/lib/python3.6/dist-packages (from libra) (3.2.5)\n",
            "Requirement already satisfied: opencv-python in /usr/local/lib/python3.6/dist-packages (from libra) (4.1.2.30)\n",
            "Collecting autocorrect\n",
            "\u001b[?25l  Downloading https://files.pythonhosted.org/packages/aa/5b/6510d8370201fc96cbb773232c2362079389ed3285b0b1c6a297ef6eadc0/autocorrect-2.0.0.tar.gz (1.8MB)\n",
            "\u001b[K     |████████████████████████████████| 1.8MB 13.6MB/s \n",
            "\u001b[?25hRequirement already satisfied: seaborn in /usr/local/lib/python3.6/dist-packages (from libra) (0.10.1)\n",
            "Requirement already satisfied: numpy in /usr/local/lib/python3.6/dist-packages (from libra) (1.18.5)\n",
            "Requirement already satisfied: tensorflow==2.2.0 in /usr/local/lib/python3.6/dist-packages (from libra) (2.2.0)\n",
            "Collecting keras==2.4.3\n",
            "  Downloading https://files.pythonhosted.org/packages/44/e1/dc0757b20b56c980b5553c1b5c4c32d378c7055ab7bfa92006801ad359ab/Keras-2.4.3-py2.py3-none-any.whl\n",
            "Requirement already satisfied: textblob in /usr/local/lib/python3.6/dist-packages (from libra) (0.15.3)\n",
            "Collecting prince\n",
            "  Downloading https://files.pythonhosted.org/packages/51/f4/8de7003b86351a0e32e29ca2bbbbbf58e311b09f9286e83e638d437aee6d/prince-0.7.0-py3-none-any.whl\n",
            "Collecting pprint\n",
            "  Downloading https://files.pythonhosted.org/packages/99/12/b6383259ef85c2b942ab9135f322c0dce83fdca8600d87122d2b0181451f/pprint-0.1.tar.gz\n",
            "Collecting keras-tuner\n",
            "\u001b[?25l  Downloading https://files.pythonhosted.org/packages/a7/f7/4b41b6832abf4c9bef71a664dc563adb25afc5812831667c6db572b1a261/keras-tuner-1.0.1.tar.gz (54kB)\n",
            "\u001b[K     |████████████████████████████████| 61kB 6.0MB/s \n",
            "\u001b[?25hRequirement already satisfied: pillow in /usr/local/lib/python3.6/dist-packages (from libra) (7.0.0)\n",
            "Requirement already satisfied: spacy in /usr/local/lib/python3.6/dist-packages (from libra) (2.2.4)\n",
            "Requirement already satisfied: sklearn in /usr/local/lib/python3.6/dist-packages (from libra) (0.0)\n",
            "Collecting transformers==2.11.0\n",
            "\u001b[?25l  Downloading https://files.pythonhosted.org/packages/48/35/ad2c5b1b8f99feaaf9d7cdadaeef261f098c6e1a6a2935d4d07662a6b780/transformers-2.11.0-py3-none-any.whl (674kB)\n",
            "\u001b[K     |████████████████████████████████| 675kB 32.8MB/s \n",
            "\u001b[?25hRequirement already satisfied: matplotlib in /usr/local/lib/python3.6/dist-packages (from libra) (3.2.2)\n",
            "Requirement already satisfied: pandas in /usr/local/lib/python3.6/dist-packages (from libra) (1.0.5)\n",
            "Requirement already satisfied: future in /usr/local/lib/python3.6/dist-packages (from torch->libra) (0.16.0)\n",
            "Requirement already satisfied: setuptools in /usr/local/lib/python3.6/dist-packages (from python-Levenshtein->libra) (49.1.0)\n",
            "Requirement already satisfied: six in /usr/local/lib/python3.6/dist-packages (from nltk->libra) (1.12.0)\n",
            "Requirement already satisfied: scipy>=1.0.1 in /usr/local/lib/python3.6/dist-packages (from seaborn->libra) (1.4.1)\n",
            "Requirement already satisfied: protobuf>=3.8.0 in /usr/local/lib/python3.6/dist-packages (from tensorflow==2.2.0->libra) (3.12.2)\n",
            "Requirement already satisfied: wrapt>=1.11.1 in /usr/local/lib/python3.6/dist-packages (from tensorflow==2.2.0->libra) (1.12.1)\n",
            "Requirement already satisfied: google-pasta>=0.1.8 in /usr/local/lib/python3.6/dist-packages (from tensorflow==2.2.0->libra) (0.2.0)\n",
            "Requirement already satisfied: h5py<2.11.0,>=2.10.0 in /usr/local/lib/python3.6/dist-packages (from tensorflow==2.2.0->libra) (2.10.0)\n",
            "Requirement already satisfied: tensorflow-estimator<2.3.0,>=2.2.0 in /usr/local/lib/python3.6/dist-packages (from tensorflow==2.2.0->libra) (2.2.0)\n",
            "Requirement already satisfied: wheel>=0.26; python_version >= \"3\" in /usr/local/lib/python3.6/dist-packages (from tensorflow==2.2.0->libra) (0.34.2)\n",
            "Requirement already satisfied: opt-einsum>=2.3.2 in /usr/local/lib/python3.6/dist-packages (from tensorflow==2.2.0->libra) (3.2.1)\n",
            "Requirement already satisfied: tensorboard<2.3.0,>=2.2.0 in /usr/local/lib/python3.6/dist-packages (from tensorflow==2.2.0->libra) (2.2.2)\n",
            "Requirement already satisfied: astunparse==1.6.3 in /usr/local/lib/python3.6/dist-packages (from tensorflow==2.2.0->libra) (1.6.3)\n",
            "Requirement already satisfied: absl-py>=0.7.0 in /usr/local/lib/python3.6/dist-packages (from tensorflow==2.2.0->libra) (0.9.0)\n",
            "Requirement already satisfied: termcolor>=1.1.0 in /usr/local/lib/python3.6/dist-packages (from tensorflow==2.2.0->libra) (1.1.0)\n",
            "Requirement already satisfied: grpcio>=1.8.6 in /usr/local/lib/python3.6/dist-packages (from tensorflow==2.2.0->libra) (1.30.0)\n",
            "Requirement already satisfied: keras-preprocessing>=1.1.0 in /usr/local/lib/python3.6/dist-packages (from tensorflow==2.2.0->libra) (1.1.2)\n",
            "Requirement already satisfied: gast==0.3.3 in /usr/local/lib/python3.6/dist-packages (from tensorflow==2.2.0->libra) (0.3.3)\n",
            "Requirement already satisfied: pyyaml in /usr/local/lib/python3.6/dist-packages (from keras==2.4.3->libra) (3.13)\n",
            "Requirement already satisfied: scikit-learn>=0.22.1 in /usr/local/lib/python3.6/dist-packages (from prince->libra) (0.22.2.post1)\n",
            "Collecting terminaltables\n",
            "  Downloading https://files.pythonhosted.org/packages/9b/c4/4a21174f32f8a7e1104798c445dacdc1d4df86f2f26722767034e4de4bff/terminaltables-3.1.0.tar.gz\n",
            "Requirement already satisfied: tqdm in /usr/local/lib/python3.6/dist-packages (from keras-tuner->libra) (4.41.1)\n",
            "Requirement already satisfied: requests in /usr/local/lib/python3.6/dist-packages (from keras-tuner->libra) (2.23.0)\n",
            "Requirement already satisfied: thinc==7.4.0 in /usr/local/lib/python3.6/dist-packages (from spacy->libra) (7.4.0)\n",
            "Requirement already satisfied: srsly<1.1.0,>=1.0.2 in /usr/local/lib/python3.6/dist-packages (from spacy->libra) (1.0.2)\n",
            "Requirement already satisfied: murmurhash<1.1.0,>=0.28.0 in /usr/local/lib/python3.6/dist-packages (from spacy->libra) (1.0.2)\n",
            "Requirement already satisfied: blis<0.5.0,>=0.4.0 in /usr/local/lib/python3.6/dist-packages (from spacy->libra) (0.4.1)\n",
            "Requirement already satisfied: catalogue<1.1.0,>=0.0.7 in /usr/local/lib/python3.6/dist-packages (from spacy->libra) (1.0.0)\n",
            "Requirement already satisfied: preshed<3.1.0,>=3.0.2 in /usr/local/lib/python3.6/dist-packages (from spacy->libra) (3.0.2)\n",
            "Requirement already satisfied: wasabi<1.1.0,>=0.4.0 in /usr/local/lib/python3.6/dist-packages (from spacy->libra) (0.7.0)\n",
            "Requirement already satisfied: cymem<2.1.0,>=2.0.2 in /usr/local/lib/python3.6/dist-packages (from spacy->libra) (2.0.3)\n",
            "Requirement already satisfied: plac<1.2.0,>=0.9.6 in /usr/local/lib/python3.6/dist-packages (from spacy->libra) (1.1.3)\n",
            "Collecting sacremoses\n",
            "\u001b[?25l  Downloading https://files.pythonhosted.org/packages/7d/34/09d19aff26edcc8eb2a01bed8e98f13a1537005d31e95233fd48216eed10/sacremoses-0.0.43.tar.gz (883kB)\n",
            "\u001b[K     |████████████████████████████████| 890kB 32.0MB/s \n",
            "\u001b[?25hCollecting tokenizers==0.7.0\n",
            "\u001b[?25l  Downloading https://files.pythonhosted.org/packages/14/e5/a26eb4716523808bb0a799fcfdceb6ebf77a18169d9591b2f46a9adb87d9/tokenizers-0.7.0-cp36-cp36m-manylinux1_x86_64.whl (3.8MB)\n",
            "\u001b[K     |████████████████████████████████| 3.8MB 33.7MB/s \n",
            "\u001b[?25hRequirement already satisfied: filelock in /usr/local/lib/python3.6/dist-packages (from transformers==2.11.0->libra) (3.0.12)\n",
            "Requirement already satisfied: regex!=2019.12.17 in /usr/local/lib/python3.6/dist-packages (from transformers==2.11.0->libra) (2019.12.20)\n",
            "Collecting sentencepiece\n",
            "\u001b[?25l  Downloading https://files.pythonhosted.org/packages/d4/a4/d0a884c4300004a78cca907a6ff9a5e9fe4f090f5d95ab341c53d28cbc58/sentencepiece-0.1.91-cp36-cp36m-manylinux1_x86_64.whl (1.1MB)\n",
            "\u001b[K     |████████████████████████████████| 1.1MB 33.3MB/s \n",
            "\u001b[?25hRequirement already satisfied: dataclasses; python_version < \"3.7\" in /usr/local/lib/python3.6/dist-packages (from transformers==2.11.0->libra) (0.7)\n",
            "Requirement already satisfied: packaging in /usr/local/lib/python3.6/dist-packages (from transformers==2.11.0->libra) (20.4)\n",
            "Requirement already satisfied: cycler>=0.10 in /usr/local/lib/python3.6/dist-packages (from matplotlib->libra) (0.10.0)\n",
            "Requirement already satisfied: python-dateutil>=2.1 in /usr/local/lib/python3.6/dist-packages (from matplotlib->libra) (2.8.1)\n",
            "Requirement already satisfied: pyparsing!=2.0.4,!=2.1.2,!=2.1.6,>=2.0.1 in /usr/local/lib/python3.6/dist-packages (from matplotlib->libra) (2.4.7)\n",
            "Requirement already satisfied: kiwisolver>=1.0.1 in /usr/local/lib/python3.6/dist-packages (from matplotlib->libra) (1.2.0)\n",
            "Requirement already satisfied: pytz>=2017.2 in /usr/local/lib/python3.6/dist-packages (from pandas->libra) (2018.9)\n",
            "Requirement already satisfied: google-auth<2,>=1.6.3 in /usr/local/lib/python3.6/dist-packages (from tensorboard<2.3.0,>=2.2.0->tensorflow==2.2.0->libra) (1.17.2)\n",
            "Requirement already satisfied: google-auth-oauthlib<0.5,>=0.4.1 in /usr/local/lib/python3.6/dist-packages (from tensorboard<2.3.0,>=2.2.0->tensorflow==2.2.0->libra) (0.4.1)\n",
            "Requirement already satisfied: werkzeug>=0.11.15 in /usr/local/lib/python3.6/dist-packages (from tensorboard<2.3.0,>=2.2.0->tensorflow==2.2.0->libra) (1.0.1)\n",
            "Requirement already satisfied: markdown>=2.6.8 in /usr/local/lib/python3.6/dist-packages (from tensorboard<2.3.0,>=2.2.0->tensorflow==2.2.0->libra) (3.2.2)\n",
            "Requirement already satisfied: tensorboard-plugin-wit>=1.6.0 in /usr/local/lib/python3.6/dist-packages (from tensorboard<2.3.0,>=2.2.0->tensorflow==2.2.0->libra) (1.7.0)\n",
            "Requirement already satisfied: joblib>=0.11 in /usr/local/lib/python3.6/dist-packages (from scikit-learn>=0.22.1->prince->libra) (0.16.0)\n",
            "Requirement already satisfied: certifi>=2017.4.17 in /usr/local/lib/python3.6/dist-packages (from requests->keras-tuner->libra) (2020.6.20)\n",
            "Requirement already satisfied: urllib3!=1.25.0,!=1.25.1,<1.26,>=1.21.1 in /usr/local/lib/python3.6/dist-packages (from requests->keras-tuner->libra) (1.24.3)\n",
            "Requirement already satisfied: idna<3,>=2.5 in /usr/local/lib/python3.6/dist-packages (from requests->keras-tuner->libra) (2.10)\n",
            "Requirement already satisfied: chardet<4,>=3.0.2 in /usr/local/lib/python3.6/dist-packages (from requests->keras-tuner->libra) (3.0.4)\n",
            "Requirement already satisfied: importlib-metadata>=0.20; python_version < \"3.8\" in /usr/local/lib/python3.6/dist-packages (from catalogue<1.1.0,>=0.0.7->spacy->libra) (1.7.0)\n",
            "Requirement already satisfied: click in /usr/local/lib/python3.6/dist-packages (from sacremoses->transformers==2.11.0->libra) (7.1.2)\n",
            "Requirement already satisfied: pyasn1-modules>=0.2.1 in /usr/local/lib/python3.6/dist-packages (from google-auth<2,>=1.6.3->tensorboard<2.3.0,>=2.2.0->tensorflow==2.2.0->libra) (0.2.8)\n",
            "Requirement already satisfied: cachetools<5.0,>=2.0.0 in /usr/local/lib/python3.6/dist-packages (from google-auth<2,>=1.6.3->tensorboard<2.3.0,>=2.2.0->tensorflow==2.2.0->libra) (4.1.1)\n",
            "Requirement already satisfied: rsa<5,>=3.1.4; python_version >= \"3\" in /usr/local/lib/python3.6/dist-packages (from google-auth<2,>=1.6.3->tensorboard<2.3.0,>=2.2.0->tensorflow==2.2.0->libra) (4.6)\n",
            "Requirement already satisfied: requests-oauthlib>=0.7.0 in /usr/local/lib/python3.6/dist-packages (from google-auth-oauthlib<0.5,>=0.4.1->tensorboard<2.3.0,>=2.2.0->tensorflow==2.2.0->libra) (1.3.0)\n",
            "Requirement already satisfied: zipp>=0.5 in /usr/local/lib/python3.6/dist-packages (from importlib-metadata>=0.20; python_version < \"3.8\"->catalogue<1.1.0,>=0.0.7->spacy->libra) (3.1.0)\n",
            "Requirement already satisfied: pyasn1<0.5.0,>=0.4.6 in /usr/local/lib/python3.6/dist-packages (from pyasn1-modules>=0.2.1->google-auth<2,>=1.6.3->tensorboard<2.3.0,>=2.2.0->tensorflow==2.2.0->libra) (0.4.8)\n",
            "Requirement already satisfied: oauthlib>=3.0.0 in /usr/local/lib/python3.6/dist-packages (from requests-oauthlib>=0.7.0->google-auth-oauthlib<0.5,>=0.4.1->tensorboard<2.3.0,>=2.2.0->tensorflow==2.2.0->libra) (3.1.0)\n",
            "Building wheels for collected packages: python-Levenshtein, autocorrect, pprint, keras-tuner, terminaltables, sacremoses\n",
            "  Building wheel for python-Levenshtein (setup.py) ... \u001b[?25l\u001b[?25hdone\n",
            "  Created wheel for python-Levenshtein: filename=python_Levenshtein-0.12.0-cp36-cp36m-linux_x86_64.whl size=144791 sha256=fafa75a3a8447ec4c57d7d401a169f30a117d820a5e58c5a36de79768f99aac8\n",
            "  Stored in directory: /root/.cache/pip/wheels/de/c2/93/660fd5f7559049268ad2dc6d81c4e39e9e36518766eaf7e342\n",
            "  Building wheel for autocorrect (setup.py) ... \u001b[?25l\u001b[?25hdone\n",
            "  Created wheel for autocorrect: filename=autocorrect-2.0.0-cp36-none-any.whl size=1811641 sha256=a9c27508f34523505a2ed96ec74028d19ced5412377b00171aaa5d9a03c76c2a\n",
            "  Stored in directory: /root/.cache/pip/wheels/0b/06/bc/e66f28d72bed29591eadc79cebb2e7964ad0282804ab233da3\n",
            "  Building wheel for pprint (setup.py) ... \u001b[?25l\u001b[?25hdone\n",
            "  Created wheel for pprint: filename=pprint-0.1-cp36-none-any.whl size=1251 sha256=7d45b17c44571717de789f644f13d56ff24c0a949159eab1a2a67153f514b8dd\n",
            "  Stored in directory: /root/.cache/pip/wheels/42/d4/c6/16a6495aecc1bda5d5857bd036efd50617789ba9bea4a05124\n",
            "  Building wheel for keras-tuner (setup.py) ... \u001b[?25l\u001b[?25hdone\n",
            "  Created wheel for keras-tuner: filename=keras_tuner-1.0.1-cp36-none-any.whl size=73200 sha256=70bc5cf8b7e7d309799fc1b9c873bf2be451f81940524bc7c4ecdb7d1a84666b\n",
            "  Stored in directory: /root/.cache/pip/wheels/b9/cc/62/52716b70dd90f3db12519233c3a93a5360bc672da1a10ded43\n",
            "  Building wheel for terminaltables (setup.py) ... \u001b[?25l\u001b[?25hdone\n",
            "  Created wheel for terminaltables: filename=terminaltables-3.1.0-cp36-none-any.whl size=15356 sha256=bdc849e502855a5dded53ac613525345f1d57ad4f6f7a1ca1b61d6e6d7154735\n",
            "  Stored in directory: /root/.cache/pip/wheels/30/6b/50/6c75775b681fb36cdfac7f19799888ef9d8813aff9e379663e\n",
            "  Building wheel for sacremoses (setup.py) ... \u001b[?25l\u001b[?25hdone\n",
            "  Created wheel for sacremoses: filename=sacremoses-0.0.43-cp36-none-any.whl size=893260 sha256=86542f3dfb3d300a45e56b286fcf8b736bff9c0a9980f9593fd8010531b60219\n",
            "  Stored in directory: /root/.cache/pip/wheels/29/3c/fd/7ce5c3f0666dab31a50123635e6fb5e19ceb42ce38d4e58f45\n",
            "Successfully built python-Levenshtein autocorrect pprint keras-tuner terminaltables sacremoses\n",
            "Installing collected packages: colorama, python-Levenshtein, autocorrect, keras, prince, pprint, terminaltables, keras-tuner, sacremoses, tokenizers, sentencepiece, transformers, libra\n",
            "  Found existing installation: Keras 2.3.1\n",
            "    Uninstalling Keras-2.3.1:\n",
            "      Successfully uninstalled Keras-2.3.1\n",
            "Successfully installed autocorrect-2.0.0 colorama-0.4.3 keras-2.4.3 keras-tuner-1.0.1 libra-1.0.2 pprint-0.1 prince-0.7.0 python-Levenshtein-0.12.0 sacremoses-0.0.43 sentencepiece-0.1.91 terminaltables-3.1.0 tokenizers-0.7.0 transformers-2.11.0\n"
          ],
          "name": "stdout"
        }
      ]
    },
    {
      "cell_type": "markdown",
      "metadata": {
        "id": "Hx4OVg567HuH",
        "colab_type": "text"
      },
      "source": [
        "# Importing client from libra\n",
        "Everything is built around the client object. You can call different queries on it and everything will be stored under the models field of the object."
      ]
    },
    {
      "cell_type": "code",
      "metadata": {
        "id": "0xlOfiMNw8X8",
        "colab_type": "code",
        "colab": {
          "base_uri": "https://localhost:8080/",
          "height": 71
        },
        "outputId": "41d3983d-fad0-47b8-83ac-425de8b31629"
      },
      "source": [
        "from libra import client"
      ],
      "execution_count": null,
      "outputs": [
        {
          "output_type": "stream",
          "text": [
            "/usr/local/lib/python3.6/dist-packages/statsmodels/tools/_testing.py:19: FutureWarning: pandas.util.testing is deprecated. Use the functions in the public API at pandas.testing instead.\n",
            "  import pandas.util.testing as tm\n"
          ],
          "name": "stderr"
        }
      ]
    },
    {
      "cell_type": "markdown",
      "metadata": {
        "id": "CY71n5B689BQ",
        "colab_type": "text"
      },
      "source": [
        "# Using Libra\n",
        "We pass the location of our file in the client object and named it as newClient. Now to access various qureies refer to the documentation. I am using decision tree here. So the command for it is newClient.decision_tree_query() and pass in an instruction. Instructiion is an English language statement that represents the task you would like to be completed. eg: 'predict the median house value' or 'please estimate the number of households'. Should correspond to a column in the dataset. Libra Automatically detects the target column but just to be sure that it select the right column, I have passed the target column name."
      ]
    },
    {
      "cell_type": "code",
      "metadata": {
        "id": "xhnVdQTvpPf-",
        "colab_type": "code",
        "colab": {
          "base_uri": "https://localhost:8080/",
          "height": 221
        },
        "outputId": "44226d63-4069-4bca-d794-e5d401f56c55"
      },
      "source": [
        "newClient = client('/content/drive/My Drive/Colab Notebooks/creditcard.csv')\n",
        "newClient.decision_tree_query('Class')"
      ],
      "execution_count": null,
      "outputs": [
        {
          "output_type": "stream",
          "text": [
            "Creating client object\n",
            "  |- Reading in dataset\n",
            "\n",
            "\n",
            "Reading in dataset\n",
            "  |- Preprocessing data\n",
            "  ->Target column found: Class\n",
            "    |- Labels being mapped to appropriate classes\n",
            "      |- Fitting Decision Tree\n",
            "      ->Score found on testing set: 0.9991222218320986\n",
            "        |- Stored model under 'decision_tree' key\n",
            "\n"
          ],
          "name": "stdout"
        }
      ]
    },
    {
      "cell_type": "markdown",
      "metadata": {
        "id": "bternP1n99K5",
        "colab_type": "text"
      },
      "source": [
        "With just two lines of code we acquired a score of aprroximately 0.99 which is the best we can get. If you check out other kernels you would observe that only a handful of people got 0.99 accuracy and that took them hours to preprocess the data and write code for it. In that case libra saves you alot of time and gives the best result. Libra uses something known as Intelligent preprocessing so that you don't need to preprocess the data, all by yourself."
      ]
    },
    {
      "cell_type": "markdown",
      "metadata": {
        "id": "nXUUBjuW5X_j",
        "colab_type": "text"
      },
      "source": [
        "# You don't need to worry about analysing the results.\n",
        "newClient.analyze() Creates confusion matrix and ROC Curve for all classification problems. Also calculates recall, precision, f1, and f2 score."
      ]
    },
    {
      "cell_type": "code",
      "metadata": {
        "id": "3s96JQqMxQT8",
        "colab_type": "code",
        "colab": {
          "base_uri": "https://localhost:8080/",
          "height": 744
        },
        "outputId": "576aea18-dd23-4a88-9add-f34261ff1f56"
      },
      "source": [
        "newClient.analyze()"
      ],
      "execution_count": null,
      "outputs": [
        {
          "output_type": "stream",
          "text": [
            "\n",
            "Analyzing decision_tree for further understanding\n",
            "  |- Making predictions for test data\n",
            "  ->Plotting ROC curves and creating confusion matrix...\n",
            "    |- Investigating potential issues with calculations\n",
            "      |- Gathering metrics for display: \n",
            "      ->Accuracy on test set: 0.9991222218320986\n",
            "      ->Recall on test set: 0.9991222218320986\n",
            "      ->Precision on test set: 0.9991222218320986\n",
            "      ->F1 Score on test set: 0.9991222218320986\n",
            "\n"
          ],
          "name": "stdout"
        },
        {
          "output_type": "display_data",
          "data": {
            "image/png": "[encoded data removed]",
            "text/plain": [
              "<Figure size 432x288 with 1 Axes>"
            ]
          },
          "metadata": {
            "tags": [],
            "needs_background": "light"
          }
        },
        {
          "output_type": "display_data",
          "data": {
            "image/png": "[encoded data removed]",
            "text/plain": [
              "<Figure size 432x288 with 2 Axes>"
            ]
          },
          "metadata": {
            "tags": [],
            "needs_background": "light"
          }
        }
      ]
    },
    {
      "cell_type": "markdown",
      "metadata": {
        "id": "9htv3nIe3q-X",
        "colab_type": "text"
      },
      "source": [
        "newClient.info() Returns all the keys, representing each category of data generated for the dataset."
      ]
    },
    {
      "cell_type": "code",
      "metadata": {
        "id": "-ODmpsfq0pIG",
        "colab_type": "code",
        "colab": {
          "base_uri": "https://localhost:8080/",
          "height": 34
        },
        "outputId": "f9b3b629-d101-4e88-ba31-b83cf18efdc4"
      },
      "source": [
        "newClient.info()"
      ],
      "execution_count": null,
      "outputs": [
        {
          "output_type": "execute_result",
          "data": {
            "text/plain": [
              "dict_keys(['id', 'model', 'target', 'num_classes', 'accuracy', 'accuracy_score', 'preprocesser', 'interpreter', 'test_data', 'plots', 'scores'])"
            ]
          },
          "metadata": {
            "tags": []
          },
          "execution_count": 10
        }
      ]
    },
    {
      "cell_type": "markdown",
      "metadata": {
        "id": "futpJu7V3zto",
        "colab_type": "text"
      },
      "source": [
        "`newClient.model()` returns a dictionary of that model. It includes everything from accuracy, precision, recall,F! score to all the preprocsiing technique that have been used. It's more helpful for people who are already know about these concepts and can code them. Non tech users need not to worry about this."
      ]
    },
    {
      "cell_type": "code",
      "metadata": {
        "id": "gOR_AJTd0Rap",
        "colab_type": "code",
        "colab": {
          "base_uri": "https://localhost:8080/",
          "height": 935
        },
        "outputId": "4f5dff9a-36e0-4db2-961b-b79686bf9672"
      },
      "source": [
        "newClient.model()"
      ],
      "execution_count": null,
      "outputs": [
        {
          "output_type": "stream",
          "text": [
            "\n"
          ],
          "name": "stdout"
        },
        {
          "output_type": "execute_result",
          "data": {
            "text/plain": [
              "{'accuracy': {'accuracy_score': 0.9991222218320986,\n",
              "  'cross_val_score': array([0.999052  , 0.99907832, 0.99907832])},\n",
              " 'accuracy_score': 0.9991222218320986,\n",
              " 'id': '95f6e4e5-2348-4afb-8ede-cc4cb466d4eb',\n",
              " 'interpreter': LabelEncoder(),\n",
              " 'model': DecisionTreeClassifier(ccp_alpha=0.0, class_weight=None, criterion='gini',\n",
              "                        max_depth=None, max_features=None, max_leaf_nodes=None,\n",
              "                        min_impurity_decrease=0.0, min_impurity_split=None,\n",
              "                        min_samples_leaf=1, min_samples_split=2,\n",
              "                        min_weight_fraction_leaf=0.0, presort='deprecated',\n",
              "                        random_state=None, splitter='best'),\n",
              " 'num_classes': 1,\n",
              " 'plots': {'confusion_matrix': <Figure size 432x288 with 2 Axes>,\n",
              "  'roc_curve': <Figure size 432x288 with 1 Axes>},\n",
              " 'preprocesser': ColumnTransformer(n_jobs=None, remainder='passthrough', sparse_threshold=0.3,\n",
              "                   transformer_weights=None,\n",
              "                   transformers=[('num',\n",
              "                                  Pipeline(memory=None,\n",
              "                                           steps=[('imputer',\n",
              "                                                   SimpleImputer(add_indicator=False,\n",
              "                                                                 copy=True,\n",
              "                                                                 fill_value=None,\n",
              "                                                                 missing_values=nan,\n",
              "                                                                 strategy='median',\n",
              "                                                                 verbose=0)),\n",
              "                                                  ('std_scaler',\n",
              "                                                   StandardScaler(copy=True,\n",
              "                                                                  with_mean=True,\n",
              "                                                                  with_std=True))],\n",
              "                                           verbose=False),\n",
              "                                  Index(['Time', 'V1', 'V2', 'V3', 'V4', 'V5', 'V6', 'V7', 'V8', 'V9', 'V10',\n",
              "        'V11', 'V12', 'V13', 'V14', 'V15', 'V16', 'V17', 'V18', 'V19', 'V20',\n",
              "        'V21', 'V22', 'V23', 'V24', 'V25', 'V26', 'V27', 'V28', 'Amount'],\n",
              "       dtype='object'))],\n",
              "                   verbose=False),\n",
              " 'scores': {'f1_score': 0.9991222218320986,\n",
              "  'precision_score': 0.9991222218320986,\n",
              "  'recall_score': 0.9991222218320986},\n",
              " 'target': 'Class',\n",
              " 'test_data': {'X':            Time        V1        V2  ...       V27       V28    Amount\n",
              "  0      0.591868  0.967971  0.038854  ... -0.057671 -0.188032 -0.090923\n",
              "  1     -1.133119 -0.075892 -0.240068  ...  0.347919  0.335254 -0.330561\n",
              "  2      1.487878  1.072930 -0.583761  ...  0.274771 -0.069597 -0.339137\n",
              "  3      0.778611 -3.248955 -3.146000  ...  2.680239 -5.786810 -0.355472\n",
              "  4      0.971229  0.997486  0.022203  ... -0.026122 -0.066802 -0.144380\n",
              "  ...         ...       ...       ...  ...       ...       ...       ...\n",
              "  56957 -0.300585  0.592110  0.109490  ... -0.035563  0.023766 -0.354288\n",
              "  56958 -0.981935 -0.378878  0.584963  ... -0.064488  0.037837 -0.167617\n",
              "  56959 -1.034674 -1.147861  1.031647  ... -1.258769  0.054522 -0.328928\n",
              "  56960  1.291619 -0.312286  0.106729  ...  0.597734  0.437571  0.387782\n",
              "  56961  1.199089  1.032162 -0.809183  ... -0.225699 -0.155514  0.040535\n",
              "  \n",
              "  [56962 rows x 30 columns], 'y': array([0, 0, 0, ..., 0, 0, 0])}}"
            ]
          },
          "metadata": {
            "tags": []
          },
          "execution_count": 16
        }
      ]
    },
    {
      "cell_type": "markdown",
      "metadata": {
        "id": "9FM-LPNoAEGT",
        "colab_type": "text"
      },
      "source": [
        "# Accessing the model"
      ]
    },
    {
      "cell_type": "markdown",
      "metadata": {
        "id": "epx2smH04zJJ",
        "colab_type": "text"
      },
      "source": [
        "`newClient.model() `return a dictionary and if you want to access the model then you can directly use newClient.model()['model']"
      ]
    },
    {
      "cell_type": "code",
      "metadata": {
        "id": "KYzVvCMy_MXk",
        "colab_type": "code",
        "colab": {
          "base_uri": "https://localhost:8080/",
          "height": 136
        },
        "outputId": "0f5dfcd8-1edf-4dbb-8e9c-2b863f53446c"
      },
      "source": [
        "newClient.model()['model']"
      ],
      "execution_count": null,
      "outputs": [
        {
          "output_type": "stream",
          "text": [
            "\n"
          ],
          "name": "stdout"
        },
        {
          "output_type": "execute_result",
          "data": {
            "text/plain": [
              "DecisionTreeClassifier(ccp_alpha=0.0, class_weight=None, criterion='gini',\n",
              "                       max_depth=None, max_features=None, max_leaf_nodes=None,\n",
              "                       min_impurity_decrease=0.0, min_impurity_split=None,\n",
              "                       min_samples_leaf=1, min_samples_split=2,\n",
              "                       min_weight_fraction_leaf=0.0, presort='deprecated',\n",
              "                       random_state=None, splitter='best')"
            ]
          },
          "metadata": {
            "tags": []
          },
          "execution_count": 30
        }
      ]
    },
    {
      "cell_type": "markdown",
      "metadata": {
        "id": "5GMwe2mDBGRj",
        "colab_type": "text"
      },
      "source": [
        "***It's that simple. Anyone can use it. :)***"
      ]
    }
  ]
}